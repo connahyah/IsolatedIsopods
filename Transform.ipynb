{
 "cells": [
  {
   "cell_type": "markdown",
   "metadata": {},
   "source": [
    "# **PROJECT2 : LA Airbnb Listing**\n",
    "\n",
    "\n",
    "## **ETL : Extract, Transform, Load Project**\n",
    "\n",
    "* <b>Extract:</b>   read the data, often from mupltiple sources/formats.<br>\n",
    "* <b>Transform:</b>  clean and structure the data to suit business needs.<br>\n",
    "* <b>Load:</b>  load the data into a database for storage that can be used for future analysis or business use.\n",
    "\n",
    "### Data source:\n",
    "* https://www.kaggle.com/oindrilasen/la-airbnb-listings\n"
   ]
  },
  {
   "cell_type": "markdown",
   "metadata": {},
   "source": [
    " <b>DATA EXTRACTION</b><br>\n",
    " \n",
    "   <b>STEP 1: Import Modules And Data</b>"
   ]
  },
  {
   "cell_type": "code",
   "execution_count": null,
   "metadata": {},
   "outputs": [],
   "source": [
    "import pandas as pd\n",
    "import numpy as np\n",
    "from sqlalchemy import create_engine\n",
    "import os"
   ]
  },
  {
   "cell_type": "code",
   "execution_count": null,
   "metadata": {
    "scrolled": true
   },
   "outputs": [],
   "source": [
    "#Read the csv file\n",
    "path = os.path.join(\"Resources\", \"Detail_listings.csv\")\n",
    "df=pd.read_csv(path)\n",
    "df.head()"
   ]
  },
  {
   "cell_type": "markdown",
   "metadata": {},
   "source": [
    "<b>STEP2. DATA EXPLORATION</b><br>\n",
    "Explore Datasets to list Columns and their respective Data-types"
   ]
  },
  {
   "cell_type": "code",
   "execution_count": null,
   "metadata": {
    "scrolled": true
   },
   "outputs": [],
   "source": [
    "df.info()"
   ]
  },
  {
   "cell_type": "markdown",
   "metadata": {},
   "source": [
    "<b>STEP3: DATA CLEANING<b>"
   ]
  },
  {
   "cell_type": "code",
   "execution_count": null,
   "metadata": {},
   "outputs": [],
   "source": [
    "# Ensure each listing is a unique property\n",
    "# len(df.listing_url.unique())\n",
    "len(df)"
   ]
  },
  {
   "cell_type": "code",
   "execution_count": null,
   "metadata": {},
   "outputs": [],
   "source": [
    "def price_cleaner(df, column):\n",
    "    '''\n",
    "    cleans str price by removing dollar sign, commas, and changing dtype to float\n",
    "    \n",
    "    df : dataframe to change\n",
    "    column: selected column in quotes (eg. 'cost_column')\n",
    "    '''\n",
    "    df[column] = df[column].str.replace(',', '')\n",
    "    df[column] = df[column].str.replace('$', '')\n",
    "    df[column] = df[column].astype(float)"
   ]
  },
  {
   "cell_type": "code",
   "execution_count": null,
   "metadata": {
    "scrolled": false
   },
   "outputs": [],
   "source": [
    "#Establish baseline price column for comparisons\n",
    "price_df = df[[\"id\", \"listing_url\", \"name\", \"price\"]].copy().reset_index(drop=True)\n",
    "\n",
    "#Change price to float (not str)\n",
    "price_cleaner(price_df, \"price\")\n",
    "\n",
    "price_df.head()"
   ]
  },
  {
   "cell_type": "code",
   "execution_count": null,
   "metadata": {
    "scrolled": false
   },
   "outputs": [],
   "source": [
    "#neighbourhood dataframe\n",
    "neighborhood_df=df[[\"id\",\"neighbourhood_cleansed\",\"zipcode\"]].dropna().reset_index(drop=True)\n",
    "neighborhood_df = neighborhood_df.rename(columns={\"neighbourhood_cleansed\":\"neighborhood\"})\n",
    "neighborhood_df"
   ]
  },
  {
   "cell_type": "code",
   "execution_count": null,
   "metadata": {},
   "outputs": [],
   "source": [
    "# Merge to show comparison between neighborhood and price\n",
    "neighborhood_price = pd.merge(\n",
    "    neighborhood_df[[\"id\",\"neighborhood\"]]\n",
    "    , price_df[[\"id\",\"price\"]]\n",
    "    , on=\"id\")\n",
    "neighborhood_price.head()"
   ]
  },
  {
   "cell_type": "code",
   "execution_count": null,
   "metadata": {},
   "outputs": [],
   "source": [
    "# host info data frame\n",
    "host_df = df[[\n",
    "    \"id\", \"host_id\",\"host_url\", \"host_name\", \"host_since\", \"host_is_superhost\", \"host_total_listings_count\"\n",
    "]].dropna().reset_index(drop=True)\n",
    "host_df = host_df.rename(columns={\"host_is_superhost\":\"superhost_status\"})\n",
    "host_df.head()"
   ]
  },
  {
   "cell_type": "code",
   "execution_count": null,
   "metadata": {},
   "outputs": [],
   "source": [
    "# Merge to show comparison between superhost status and price\n",
    "superhost_price = pd.merge(\n",
    "    host_df[[\"host_id\", \"id\", \"superhost_status\"]]\n",
    "    , price_df[[\"id\",\"price\"]]\n",
    "    , on=\"id\"\n",
    ")\n",
    "superhost_price.head()"
   ]
  },
  {
   "cell_type": "code",
   "execution_count": null,
   "metadata": {
    "scrolled": true
   },
   "outputs": [],
   "source": [
    "# Property stats dataframe\n",
    "property_stats_df = df[[\n",
    "    \"id\",\"property_type\", \"room_type\", \"bedrooms\",\"bathrooms\"\n",
    "]].dropna().reset_index(drop=True)\n",
    "property_stats_df"
   ]
  },
  {
   "cell_type": "code",
   "execution_count": null,
   "metadata": {},
   "outputs": [],
   "source": [
    "# Bedroom/price merged df\n",
    "bedroom_price = pd.merge(\n",
    "    property_stats_df[[\"id\", \"bedrooms\"]]\n",
    "    , price_df[[\"id\",\"price\"]]\n",
    "    , on=\"id\"\n",
    ")\n",
    "bedroom_price.head()"
   ]
  },
  {
   "cell_type": "code",
   "execution_count": null,
   "metadata": {},
   "outputs": [],
   "source": [
    "#Bathroom/price merged df\n",
    "bathroom_price = pd.merge(\n",
    "    property_stats_df[[\"id\", \"bathrooms\"]]\n",
    "    , price_df[[\"id\",\"price\"]]\n",
    "    , on=\"id\"\n",
    ")\n",
    "bathroom_price.head()"
   ]
  },
  {
   "cell_type": "code",
   "execution_count": null,
   "metadata": {},
   "outputs": [],
   "source": [
    "# Associated Fees dataframe\n",
    "fees_df = df[[\n",
    "    \"id\",\"security_deposit\", \"cleaning_fee\",\"extra_people\"\n",
    "]].reset_index(drop=True)\n",
    "\n",
    "price_cleaner(fees_df, \"security_deposit\")\n",
    "price_cleaner(fees_df, \"cleaning_fee\")\n",
    "price_cleaner(fees_df, \"extra_people\")\n",
    "\n",
    "fees_df[\"security_deposit\"]\n",
    "fees_df[\"cleaning_fee\"]\n",
    "fees_df[\"extra_people\"]\n",
    "\n",
    "fees_df = fees_df.fillna(0)\n",
    "fees_df.head()"
   ]
  },
  {
   "cell_type": "code",
   "execution_count": null,
   "metadata": {},
   "outputs": [],
   "source": [
    "# Merge to show comparison between fees and price\n",
    "fees_price = pd.merge(\n",
    "    fees_df[[\"id\", \"security_deposit\",\"cleaning_fee\",\"extra_people\"]]\n",
    "    , price_df[[\"id\",\"price\"]]\n",
    "    , on=\"id\"\n",
    ")\n",
    "fees_price.head()"
   ]
  },
  {
   "cell_type": "code",
   "execution_count": null,
   "metadata": {},
   "outputs": [],
   "source": [
    "# Property Reviews Dataframe\n",
    "reviews_df = df[[\n",
    "    \"id\",\"review_scores_rating\", \"review_scores_accuracy\", \"review_scores_cleanliness\",\"review_scores_location\",\"review_scores_value\",\"reviews_per_month\"\n",
    "]].dropna().reset_index(drop=True)\n",
    "reviews_df.columns = reviews_df.columns.str.replace('review_scores_', '')\n",
    "reviews_df"
   ]
  },
  {
   "cell_type": "code",
   "execution_count": null,
   "metadata": {
    "scrolled": true
   },
   "outputs": [],
   "source": [
    "# Merge to show comparison between superhost status and price\n",
    "reviews_df = pd.merge(\n",
    "    reviews_df[[\"id\", \"rating\",\"reviews_per_month\"]]\n",
    "    , price_df[[\"id\",\"price\"]]\n",
    "    , on=\"id\"\n",
    ")\n",
    "reviews_df.head()"
   ]
  },
  {
   "cell_type": "markdown",
   "metadata": {},
   "source": [
    "<b>STEP4: DATA LOADING<b>"
   ]
  }
 ],
 "metadata": {
  "kernelspec": {
   "display_name": "Python 3",
   "language": "python",
   "name": "python3"
  },
  "language_info": {
   "codemirror_mode": {
    "name": "ipython",
    "version": 3
   },
   "file_extension": ".py",
   "mimetype": "text/x-python",
   "name": "python",
   "nbconvert_exporter": "python",
   "pygments_lexer": "ipython3",
   "version": "3.7.4"
  }
 },
 "nbformat": 4,
 "nbformat_minor": 2
}

